{
  "nbformat": 4,
  "nbformat_minor": 0,
  "metadata": {
    "colab": {
      "provenance": [],
      "authorship_tag": "ABX9TyPBB9PiSBbigVVWcBwZwvQv",
      "include_colab_link": true
    },
    "kernelspec": {
      "name": "python3",
      "display_name": "Python 3"
    },
    "language_info": {
      "name": "python"
    }
  },
  "cells": [
    {
      "cell_type": "markdown",
      "metadata": {
        "id": "view-in-github",
        "colab_type": "text"
      },
      "source": [
        "<a href=\"https://colab.research.google.com/github/thetestcoder/ml-projects/blob/main/ML_1_Credit_Card_Fraud_Detection.ipynb\" target=\"_parent\"><img src=\"https://colab.research.google.com/assets/colab-badge.svg\" alt=\"Open In Colab\"/></a>"
      ]
    },
    {
      "cell_type": "code",
      "execution_count": null,
      "metadata": {
        "id": "K7cuxDLENwxc"
      },
      "outputs": [],
      "source": [
        "!mkdir ~/.kaggle\n",
        "\n",
        "!cp kaggle.json ~/.kaggle\n",
        "\n",
        "!chmod 400 ~/.kaggle/kaggle.json"
      ]
    },
    {
      "cell_type": "code",
      "source": [
        "!kaggle datasets download mlg-ulb/creditcardfraud"
      ],
      "metadata": {
        "id": "tWeHyuJOZqfw"
      },
      "execution_count": null,
      "outputs": []
    },
    {
      "cell_type": "code",
      "source": [
        "!unzip creditcardfraud.zip"
      ],
      "metadata": {
        "id": "asnmeR92Zr4Q"
      },
      "execution_count": null,
      "outputs": []
    },
    {
      "cell_type": "code",
      "source": [
        "import pandas as pd\n",
        "\n",
        "dataset = pd.read_csv('creditcard.csv')\n",
        "\n",
        "dataset.head()"
      ],
      "metadata": {
        "id": "rD2IK1SYZtCv"
      },
      "execution_count": null,
      "outputs": []
    },
    {
      "cell_type": "code",
      "source": [
        "dataset.describe()"
      ],
      "metadata": {
        "id": "AizJ_9xiZuW_"
      },
      "execution_count": null,
      "outputs": []
    },
    {
      "cell_type": "code",
      "source": [
        "dataset.info()"
      ],
      "metadata": {
        "id": "_O0__5LRZvqg"
      },
      "execution_count": null,
      "outputs": []
    },
    {
      "cell_type": "code",
      "source": [
        "#feature scaling\n",
        "from sklearn.model_selection import train_test_split\n",
        "from sklearn.preprocessing import StandardScaler\n",
        "from imblearn.over_sampling import SMOTE\n",
        "\n",
        "scaler = StandardScaler()\n",
        "dataset[['Time', 'Amount']] = scaler.fit_transform(dataset[['Time', 'Amount']])\n",
        "\n",
        "# feature enginerring [excluding for now]\n",
        "\n",
        "# Spliting Target from features\n",
        "\n",
        "X = dataset.drop('Class', axis=1)\n",
        "y = dataset['Class']\n",
        "\n",
        "#spliting train test\n",
        "\n",
        "X_train, X_test, y_train, y_test = train_test_split(X, y, test_size=0.2, random_state=42)\n",
        "\n",
        "\n",
        "# apply SMOTE to balance the classes in the training set\n",
        "sm = SMOTE(random_state=42)\n",
        "X_train_resampled, y_train_resampled = sm.fit_resample(X_train, y_train)\n"
      ],
      "metadata": {
        "id": "mG0aG7fmZw6w"
      },
      "execution_count": null,
      "outputs": []
    },
    {
      "cell_type": "code",
      "source": [
        "#model selection and model training\n",
        "\n",
        "from sklearn.ensemble import RandomForestClassifier\n",
        "from sklearn.metrics import accuracy_score, precision_score, recall_score, f1_score, roc_auc_score, confusion_matrix\n",
        "\n",
        "rf_clf = RandomForestClassifier(random_state=42)\n",
        "\n",
        "rf_clf.fit(X_train_resampled, y_train_resampled)\n"
      ],
      "metadata": {
        "id": "I3miCSuHZzIQ"
      },
      "execution_count": null,
      "outputs": []
    },
    {
      "cell_type": "code",
      "source": [
        "#model evaluation\n",
        "\n",
        "y_pred = rf_clf.predict(X_test)\n",
        "\n",
        "accuracy = accuracy_score(y_test, y_pred)\n",
        "precision = precision_score(y_test, y_pred)\n",
        "recall= recall_score(y_test, y_pred)\n",
        "f1 = f1_score(y_test, y_pred)\n",
        "roc_auc = roc_auc_score(y_test, y_pred)\n",
        "confusion = confusion_matrix(y_test, y_pred)\n",
        "\n",
        "\n",
        "print(\"Accuracy: \", accuracy)\n",
        "print(\"Precision: \", precision)\n",
        "print(\"Recall: \", recall)\n",
        "print(\"f1: \", f1)\n",
        "print(\"roc_auc: \", roc_auc)\n",
        "print(\"confusion Matrix: \")\n",
        "print(confusion)"
      ],
      "metadata": {
        "id": "dNfHcowzZ17x"
      },
      "execution_count": null,
      "outputs": []
    }
  ]
}